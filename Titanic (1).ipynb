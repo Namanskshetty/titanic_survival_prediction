{
  "nbformat": 4,
  "nbformat_minor": 5,
  "metadata": {
    "kernelspec": {
      "name": "python3",
      "display_name": "Python 3",
      "language": "python"
    },
    "language_info": {
      "name": "python",
      "version": "3.6.13",
      "mimetype": "text/x-python",
      "codemirror_mode": {
        "name": "ipython",
        "version": 3
      },
      "pygments_lexer": "ipython3",
      "nbconvert_exporter": "python",
      "file_extension": ".py"
    },
    "colab": {
      "name": "Titanic.ipynb",
      "provenance": [],
      "collapsed_sections": []
    }
  },
  "cells": [
    {
      "cell_type": "code",
      "metadata": {
        "trusted": true,
        "id": "apPH7m_SSMrg"
      },
      "source": [
        "#importing important lib\n",
        "import numpy as np\n",
        "import pandas as pd\n",
        "import seaborn as sns\n",
        "import matplotlib.pyplot as plt"
      ],
      "id": "apPH7m_SSMrg",
      "execution_count": null,
      "outputs": []
    },
    {
      "cell_type": "code",
      "metadata": {
        "trusted": true,
        "colab": {
          "base_uri": "https://localhost:8080/"
        },
        "id": "BuViKhyNSMrk",
        "outputId": "4e4af52b-7236-4010-ee2f-90337fd00501"
      },
      "source": [
        "data_train=pd.read_csv(\"train.csv\")# taking training data from csv file\n",
        "data_test=pd.read_csv(\"Test.csv\")# taking test data\n",
        "data_train.shape#finding the shape of the taraning data"
      ],
      "id": "BuViKhyNSMrk",
      "execution_count": null,
      "outputs": [
        {
          "output_type": "execute_result",
          "data": {
            "text/plain": [
              "(891, 12)"
            ]
          },
          "metadata": {},
          "execution_count": 6
        }
      ]
    },
    {
      "cell_type": "code",
      "metadata": {
        "trusted": true,
        "colab": {
          "base_uri": "https://localhost:8080/"
        },
        "id": "WrLgV1iuSMrl",
        "outputId": "79332b6b-6dc6-4e7e-c0a8-112c592b5b99"
      },
      "source": [
        "data_test.shape#finding the shape of the test data"
      ],
      "id": "WrLgV1iuSMrl",
      "execution_count": null,
      "outputs": [
        {
          "output_type": "execute_result",
          "data": {
            "text/plain": [
              "(418, 11)"
            ]
          },
          "metadata": {},
          "execution_count": 83
        }
      ]
    },
    {
      "cell_type": "code",
      "metadata": {
        "trusted": true,
        "colab": {
          "base_uri": "https://localhost:8080/"
        },
        "id": "2B-GE2LWSMrm",
        "outputId": "c02462ae-b8de-4c43-f75e-104b6cd1fc7b"
      },
      "source": [
        "data_train['Survived'].value_counts() #This gives the counts of death and lived rate in the csv 0= dead and 1 is alive"
      ],
      "id": "2B-GE2LWSMrm",
      "execution_count": null,
      "outputs": [
        {
          "output_type": "execute_result",
          "data": {
            "text/plain": [
              "0    549\n",
              "1    342\n",
              "Name: Survived, dtype: int64"
            ]
          },
          "metadata": {},
          "execution_count": 84
        }
      ]
    },
    {
      "cell_type": "code",
      "metadata": {
        "trusted": true,
        "colab": {
          "base_uri": "https://localhost:8080/",
          "height": 350
        },
        "id": "03wrlYqrSMrm",
        "outputId": "2f24e754-8715-4533-dc57-11a96555cd3c"
      },
      "source": [
        "sns.countplot(data_train['Survived'],label=\"Count\")#shows the bar chart for the above count using seaborn"
      ],
      "id": "03wrlYqrSMrm",
      "execution_count": null,
      "outputs": [
        {
          "output_type": "stream",
          "name": "stderr",
          "text": [
            "/usr/local/lib/python3.7/dist-packages/seaborn/_decorators.py:43: FutureWarning: Pass the following variable as a keyword arg: x. From version 0.12, the only valid positional argument will be `data`, and passing other arguments without an explicit keyword will result in an error or misinterpretation.\n",
            "  FutureWarning\n"
          ]
        },
        {
          "output_type": "execute_result",
          "data": {
            "text/plain": [
              "<matplotlib.axes._subplots.AxesSubplot at 0x7f0797b7aa10>"
            ]
          },
          "metadata": {},
          "execution_count": 85
        },
        {
          "output_type": "display_data",
          "data": {
            "image/png": "[encoded data removed]",
            "text/plain": [
              "<Figure size 432x288 with 1 Axes>"
            ]
          },
          "metadata": {
            "needs_background": "light"
          }
        }
      ]
    },
    {
      "cell_type": "code",
      "metadata": {
        "trusted": true,
        "colab": {
          "base_uri": "https://localhost:8080/",
          "height": 142
        },
        "id": "ZmMiM7YySMrn",
        "outputId": "c61ef644-5628-492d-bf03-b8a41db4c901"
      },
      "source": [
        "data_train.groupby('Sex')[['Survived']].mean()#this is used to find the mean value for the survuvred rate of male and female"
      ],
      "id": "ZmMiM7YySMrn",
      "execution_count": null,
      "outputs": [
        {
          "output_type": "execute_result",
          "data": {
            "text/html": [
              "<div>\n",
              "<style scoped>\n",
              "    .dataframe tbody tr th:only-of-type {\n",
              "        vertical-align: middle;\n",
              "    }\n",
              "\n",
              "    .dataframe tbody tr th {\n",
              "        vertical-align: top;\n",
              "    }\n",
              "\n",
              "    .dataframe thead th {\n",
              "        text-align: right;\n",
              "    }\n",
              "</style>\n",
              "<table border=\"1\" class=\"dataframe\">\n",
              "  <thead>\n",
              "    <tr style=\"text-align: right;\">\n",
              "      <th></th>\n",
              "      <th>Survived</th>\n",
              "    </tr>\n",
              "    <tr>\n",
              "      <th>Sex</th>\n",
              "      <th></th>\n",
              "    </tr>\n",
              "  </thead>\n",
              "  <tbody>\n",
              "    <tr>\n",
              "      <th>female</th>\n",
              "      <td>0.742038</td>\n",
              "    </tr>\n",
              "    <tr>\n",
              "      <th>male</th>\n",
              "      <td>0.188908</td>\n",
              "    </tr>\n",
              "  </tbody>\n",
              "</table>\n",
              "</div>"
            ],
            "text/plain": [
              "        Survived\n",
              "Sex             \n",
              "female  0.742038\n",
              "male    0.188908"
            ]
          },
          "metadata": {},
          "execution_count": 86
        }
      ]
    },
    {
      "cell_type": "code",
      "metadata": {
        "trusted": true,
        "colab": {
          "base_uri": "https://localhost:8080/",
          "height": 142
        },
        "id": "gQzjCludSMrn",
        "outputId": "a93fb7ac-5715-4682-ebf3-e167fc072160"
      },
      "source": [
        "data_train.pivot_table('Survived', index='Sex', columns='Pclass') #gives a ratio for male and female survived with respect to the class"
      ],
      "id": "gQzjCludSMrn",
      "execution_count": null,
      "outputs": [
        {
          "output_type": "execute_result",
          "data": {
            "text/html": [
              "<div>\n",
              "<style scoped>\n",
              "    .dataframe tbody tr th:only-of-type {\n",
              "        vertical-align: middle;\n",
              "    }\n",
              "\n",
              "    .dataframe tbody tr th {\n",
              "        vertical-align: top;\n",
              "    }\n",
              "\n",
              "    .dataframe thead th {\n",
              "        text-align: right;\n",
              "    }\n",
              "</style>\n",
              "<table border=\"1\" class=\"dataframe\">\n",
              "  <thead>\n",
              "    <tr style=\"text-align: right;\">\n",
              "      <th>Pclass</th>\n",
              "      <th>1</th>\n",
              "      <th>2</th>\n",
              "      <th>3</th>\n",
              "    </tr>\n",
              "    <tr>\n",
              "      <th>Sex</th>\n",
              "      <th></th>\n",
              "      <th></th>\n",
              "      <th></th>\n",
              "    </tr>\n",
              "  </thead>\n",
              "  <tbody>\n",
              "    <tr>\n",
              "      <th>female</th>\n",
              "      <td>0.968085</td>\n",
              "      <td>0.921053</td>\n",
              "      <td>0.500000</td>\n",
              "    </tr>\n",
              "    <tr>\n",
              "      <th>male</th>\n",
              "      <td>0.368852</td>\n",
              "      <td>0.157407</td>\n",
              "      <td>0.135447</td>\n",
              "    </tr>\n",
              "  </tbody>\n",
              "</table>\n",
              "</div>"
            ],
            "text/plain": [
              "Pclass         1         2         3\n",
              "Sex                                 \n",
              "female  0.968085  0.921053  0.500000\n",
              "male    0.368852  0.157407  0.135447"
            ]
          },
          "metadata": {},
          "execution_count": 87
        }
      ]
    },
    {
      "cell_type": "code",
      "metadata": {
        "trusted": true,
        "colab": {
          "base_uri": "https://localhost:8080/",
          "height": 298
        },
        "id": "btI7O-AQSMro",
        "outputId": "12cef4c1-f302-46cd-ed5c-57e2a09ea291"
      },
      "source": [
        "data_train.pivot_table('Survived', index='Sex', columns='Pclass').plot()"
      ],
      "id": "btI7O-AQSMro",
      "execution_count": null,
      "outputs": [
        {
          "output_type": "execute_result",
          "data": {
            "text/plain": [
              "<matplotlib.axes._subplots.AxesSubplot at 0x7f0797b3b250>"
            ]
          },
          "metadata": {},
          "execution_count": 88
        },
        {
          "output_type": "display_data",
          "data": {
            "image/png": "[encoded data removed]",
            "text/plain": [
              "<Figure size 432x288 with 1 Axes>"
            ]
          },
          "metadata": {
            "needs_background": "light"
          }
        }
      ]
    },
    {
      "cell_type": "code",
      "metadata": {
        "trusted": true,
        "colab": {
          "base_uri": "https://localhost:8080/",
          "height": 296
        },
        "id": "ic9oEEkpSMro",
        "outputId": "989b5cb6-d69d-4422-f4e3-c2d5530ce5e3"
      },
      "source": [
        "sns.barplot(x='Pclass', y='Survived', data=data_train)"
      ],
      "id": "ic9oEEkpSMro",
      "execution_count": null,
      "outputs": [
        {
          "output_type": "execute_result",
          "data": {
            "text/plain": [
              "<matplotlib.axes._subplots.AxesSubplot at 0x7f0797ab2110>"
            ]
          },
          "metadata": {},
          "execution_count": 89
        },
        {
          "output_type": "display_data",
          "data": {
            "image/png": "[encoded data removed]",
            "text/plain": [
              "<Figure size 432x288 with 1 Axes>"
            ]
          },
          "metadata": {
            "needs_background": "light"
          }
        }
      ]
    },
    {
      "cell_type": "code",
      "metadata": {
        "trusted": true,
        "colab": {
          "base_uri": "https://localhost:8080/",
          "height": 203
        },
        "id": "ruG3r1XaSMrp",
        "outputId": "45ea4ae8-9d1a-4f45-96c1-1711eb291ec4"
      },
      "source": [
        "age = pd.cut(data_train['Age'], [0, 18, 80])#restring the final data of the age or grouping it to 0-18 and 18-80\n",
        "data_train.pivot_table('Survived', ['Sex', age], 'Pclass')"
      ],
      "id": "ruG3r1XaSMrp",
      "execution_count": null,
      "outputs": [
        {
          "output_type": "execute_result",
          "data": {
            "text/html": [
              "<div>\n",
              "<style scoped>\n",
              "    .dataframe tbody tr th:only-of-type {\n",
              "        vertical-align: middle;\n",
              "    }\n",
              "\n",
              "    .dataframe tbody tr th {\n",
              "        vertical-align: top;\n",
              "    }\n",
              "\n",
              "    .dataframe thead th {\n",
              "        text-align: right;\n",
              "    }\n",
              "</style>\n",
              "<table border=\"1\" class=\"dataframe\">\n",
              "  <thead>\n",
              "    <tr style=\"text-align: right;\">\n",
              "      <th></th>\n",
              "      <th>Pclass</th>\n",
              "      <th>1</th>\n",
              "      <th>2</th>\n",
              "      <th>3</th>\n",
              "    </tr>\n",
              "    <tr>\n",
              "      <th>Sex</th>\n",
              "      <th>Age</th>\n",
              "      <th></th>\n",
              "      <th></th>\n",
              "      <th></th>\n",
              "    </tr>\n",
              "  </thead>\n",
              "  <tbody>\n",
              "    <tr>\n",
              "      <th rowspan=\"2\" valign=\"top\">female</th>\n",
              "      <th>(0, 18]</th>\n",
              "      <td>0.909091</td>\n",
              "      <td>1.000000</td>\n",
              "      <td>0.511628</td>\n",
              "    </tr>\n",
              "    <tr>\n",
              "      <th>(18, 80]</th>\n",
              "      <td>0.972973</td>\n",
              "      <td>0.900000</td>\n",
              "      <td>0.423729</td>\n",
              "    </tr>\n",
              "    <tr>\n",
              "      <th rowspan=\"2\" valign=\"top\">male</th>\n",
              "      <th>(0, 18]</th>\n",
              "      <td>0.800000</td>\n",
              "      <td>0.600000</td>\n",
              "      <td>0.215686</td>\n",
              "    </tr>\n",
              "    <tr>\n",
              "      <th>(18, 80]</th>\n",
              "      <td>0.375000</td>\n",
              "      <td>0.071429</td>\n",
              "      <td>0.133663</td>\n",
              "    </tr>\n",
              "  </tbody>\n",
              "</table>\n",
              "</div>"
            ],
            "text/plain": [
              "Pclass                  1         2         3\n",
              "Sex    Age                                   \n",
              "female (0, 18]   0.909091  1.000000  0.511628\n",
              "       (18, 80]  0.972973  0.900000  0.423729\n",
              "male   (0, 18]   0.800000  0.600000  0.215686\n",
              "       (18, 80]  0.375000  0.071429  0.133663"
            ]
          },
          "metadata": {},
          "execution_count": 90
        }
      ]
    },
    {
      "cell_type": "code",
      "metadata": {
        "trusted": true,
        "colab": {
          "base_uri": "https://localhost:8080/"
        },
        "id": "HfhSwEr6SMrq",
        "outputId": "0335435d-16aa-4f74-f634-7e529f36f658"
      },
      "source": [
        "data_train.isna().sum()#checking the blanks in the data"
      ],
      "id": "HfhSwEr6SMrq",
      "execution_count": null,
      "outputs": [
        {
          "output_type": "execute_result",
          "data": {
            "text/plain": [
              "PassengerId      0\n",
              "Survived         0\n",
              "Pclass           0\n",
              "Name             0\n",
              "Sex              0\n",
              "Age            177\n",
              "SibSp            0\n",
              "Parch            0\n",
              "Ticket           0\n",
              "Fare             0\n",
              "Cabin          687\n",
              "Embarked         2\n",
              "dtype: int64"
            ]
          },
          "metadata": {},
          "execution_count": 91
        }
      ]
    },
    {
      "cell_type": "code",
      "metadata": {
        "trusted": true,
        "colab": {
          "base_uri": "https://localhost:8080/"
        },
        "id": "Ohui03JYSMrq",
        "outputId": "52e5393e-98cd-40cf-8102-57e23ca60baa"
      },
      "source": [
        "for val in data_train:\n",
        "   print(data_train[val].value_counts())\n",
        "   print()"
      ],
      "id": "Ohui03JYSMrq",
      "execution_count": null,
      "outputs": [
        {
          "output_type": "stream",
          "name": "stdout",
          "text": [
            "891    1\n",
            "293    1\n",
            "304    1\n",
            "303    1\n",
            "302    1\n",
            "      ..\n",
            "591    1\n",
            "590    1\n",
            "589    1\n",
            "588    1\n",
            "1      1\n",
            "Name: PassengerId, Length: 891, dtype: int64\n",
            "\n",
            "0    549\n",
            "1    342\n",
            "Name: Survived, dtype: int64\n",
            "\n",
            "3    491\n",
            "1    216\n",
            "2    184\n",
            "Name: Pclass, dtype: int64\n",
            "\n",
            "Abelson, Mr. Samuel                                1\n",
            "Calic, Mr. Petar                                   1\n",
            "Bourke, Mrs. John (Catherine)                      1\n",
            "Zabour, Miss. Hileni                               1\n",
            "Downton, Mr. William James                         1\n",
            "                                                  ..\n",
            "Watson, Mr. Ennis Hastings                         1\n",
            "Harper, Miss. Annie Jessie \"Nina\"                  1\n",
            "O'Connell, Mr. Patrick D                           1\n",
            "Hippach, Mrs. Louis Albert (Ida Sophia Fischer)    1\n",
            "Elsbury, Mr. William James                         1\n",
            "Name: Name, Length: 891, dtype: int64\n",
            "\n",
            "male      577\n",
            "female    314\n",
            "Name: Sex, dtype: int64\n",
            "\n",
            "24.00    30\n",
            "22.00    27\n",
            "18.00    26\n",
            "19.00    25\n",
            "30.00    25\n",
            "         ..\n",
            "55.50     1\n",
            "70.50     1\n",
            "66.00     1\n",
            "23.50     1\n",
            "0.42      1\n",
            "Name: Age, Length: 88, dtype: int64\n",
            "\n",
            "0    608\n",
            "1    209\n",
            "2     28\n",
            "4     18\n",
            "3     16\n",
            "8      7\n",
            "5      5\n",
            "Name: SibSp, dtype: int64\n",
            "\n",
            "0    678\n",
            "1    118\n",
            "2     80\n",
            "5      5\n",
            "3      5\n",
            "4      4\n",
            "6      1\n",
            "Name: Parch, dtype: int64\n",
            "\n",
            "CA. 2343             7\n",
            "347082               7\n",
            "1601                 7\n",
            "347088               6\n",
            "CA 2144              6\n",
            "                    ..\n",
            "374910               1\n",
            "STON/O 2. 3101286    1\n",
            "315090               1\n",
            "226875               1\n",
            "113796               1\n",
            "Name: Ticket, Length: 681, dtype: int64\n",
            "\n",
            "8.0500     43\n",
            "13.0000    42\n",
            "7.8958     38\n",
            "7.7500     34\n",
            "26.0000    31\n",
            "           ..\n",
            "8.4583      1\n",
            "9.8375      1\n",
            "8.3625      1\n",
            "14.1083     1\n",
            "17.4000     1\n",
            "Name: Fare, Length: 248, dtype: int64\n",
            "\n",
            "G6             4\n",
            "C23 C25 C27    4\n",
            "B96 B98        4\n",
            "F2             3\n",
            "F33            3\n",
            "              ..\n",
            "C82            1\n",
            "D11            1\n",
            "C101           1\n",
            "C62 C64        1\n",
            "D50            1\n",
            "Name: Cabin, Length: 147, dtype: int64\n",
            "\n",
            "S    644\n",
            "C    168\n",
            "Q     77\n",
            "Name: Embarked, dtype: int64\n",
            "\n"
          ]
        }
      ]
    },
    {
      "cell_type": "code",
      "metadata": {
        "trusted": true,
        "id": "IzLVO0ZlSMrq"
      },
      "source": [
        "data_train = data_train.drop(['Cabin','Ticket', 'Name'], axis=1)#cabin, name, ticket are irrelevent so the table is dropped they are non integer"
      ],
      "id": "IzLVO0ZlSMrq",
      "execution_count": null,
      "outputs": []
    },
    {
      "cell_type": "code",
      "metadata": {
        "trusted": true,
        "id": "49YI29b1SMrr"
      },
      "source": [
        "data_train = data_train.dropna(subset =['Embarked', 'Age'])#droping the blank row from the data\n"
      ],
      "id": "49YI29b1SMrr",
      "execution_count": null,
      "outputs": []
    },
    {
      "cell_type": "code",
      "metadata": {
        "trusted": true,
        "colab": {
          "base_uri": "https://localhost:8080/"
        },
        "id": "hg4TPplmSMrr",
        "outputId": "0438f23c-f707-45b5-8a2c-caf59fabfcdd"
      },
      "source": [
        "data_train.shape#finding the shape of the data after non relevant data are removed"
      ],
      "id": "hg4TPplmSMrr",
      "execution_count": null,
      "outputs": [
        {
          "output_type": "execute_result",
          "data": {
            "text/plain": [
              "(712, 9)"
            ]
          },
          "metadata": {},
          "execution_count": 95
        }
      ]
    },
    {
      "cell_type": "code",
      "metadata": {
        "trusted": true,
        "colab": {
          "base_uri": "https://localhost:8080/"
        },
        "id": "gu8yBQx7SMrr",
        "outputId": "e27c9b54-7a4c-4e18-deb9-4524d70c7b32"
      },
      "source": [
        "print(data_train['Sex'].unique())#finding uniqueness in the sex\n",
        "print(data_train['Embarked'].unique())"
      ],
      "id": "gu8yBQx7SMrr",
      "execution_count": null,
      "outputs": [
        {
          "output_type": "stream",
          "name": "stdout",
          "text": [
            "['male' 'female']\n",
            "['S' 'C' 'Q']\n"
          ]
        }
      ]
    },
    {
      "cell_type": "code",
      "metadata": {
        "trusted": true,
        "colab": {
          "base_uri": "https://localhost:8080/"
        },
        "id": "7-FrWui_SMrs",
        "outputId": "a8508ba5-1d42-4022-f085-195f2735668e"
      },
      "source": [
        "data_train.dtypes #finding the data types of the training data"
      ],
      "id": "7-FrWui_SMrs",
      "execution_count": null,
      "outputs": [
        {
          "output_type": "execute_result",
          "data": {
            "text/plain": [
              "PassengerId      int64\n",
              "Survived         int64\n",
              "Pclass           int64\n",
              "Sex             object\n",
              "Age            float64\n",
              "SibSp            int64\n",
              "Parch            int64\n",
              "Fare           float64\n",
              "Embarked        object\n",
              "dtype: object"
            ]
          },
          "metadata": {},
          "execution_count": 97
        }
      ]
    },
    {
      "cell_type": "code",
      "metadata": {
        "trusted": true,
        "colab": {
          "base_uri": "https://localhost:8080/"
        },
        "id": "kUG15Uj1SMrs",
        "outputId": "dedcfe7a-2963-475a-8dc2-67c0e19731eb"
      },
      "source": [
        "from sklearn.preprocessing import LabelEncoder#preparing the data to renamed or relabeled\n",
        "labelencoder = LabelEncoder()\n",
        "data_train.iloc[:,3]= labelencoder.fit_transform(data_train.iloc[:,3].values)#giving the position of sex\n",
        "\n",
        "data_train.iloc[:,8]= labelencoder.fit_transform(data_train.iloc[:,8].values)#giving the position of Embarked\n",
        "\n",
        "print(data_train['Sex'].unique())\n",
        "print(data_train['Embarked'].unique())"
      ],
      "id": "kUG15Uj1SMrs",
      "execution_count": null,
      "outputs": [
        {
          "output_type": "stream",
          "name": "stdout",
          "text": [
            "[1 0]\n",
            "[2 0 1]\n"
          ]
        }
      ]
    },
    {
      "cell_type": "code",
      "metadata": {
        "trusted": true,
        "id": "xeKuRafDSMrs"
      },
      "source": [
        "X = data_train.iloc[:, 2:9].values #giving values to x axis\n",
        "Y = data_train.iloc[:, 1].values #giving values to y axis"
      ],
      "id": "xeKuRafDSMrs",
      "execution_count": null,
      "outputs": []
    },
    {
      "cell_type": "code",
      "metadata": {
        "trusted": true,
        "id": "Bbw54kmKSMrs"
      },
      "source": [
        "from sklearn.model_selection import train_test_split#spliting data for training and testing\n",
        "X_train, X_test, Y_train, Y_test = train_test_split(X, Y, test_size = 0.2, random_state = 0)"
      ],
      "id": "Bbw54kmKSMrs",
      "execution_count": null,
      "outputs": []
    },
    {
      "cell_type": "code",
      "metadata": {
        "trusted": true,
        "id": "AfhpjNbnSMrt"
      },
      "source": [
        "from sklearn.preprocessing import StandardScaler#preprossing the data\n",
        "sc = StandardScaler()\n",
        "X_train = sc.fit_transform(X_train)\n",
        "X_test = sc.transform(X_test)"
      ],
      "id": "AfhpjNbnSMrt",
      "execution_count": null,
      "outputs": []
    },
    {
      "cell_type": "code",
      "metadata": {
        "trusted": true,
        "id": "QQ2a9e1vSMrt"
      },
      "source": [
        "def models(X_train,Y_train):\n",
        "  \n",
        "  #Using Logistic Regression Algorithm to the Training Set\n",
        "  from sklearn.linear_model import LogisticRegression\n",
        "  log = LogisticRegression(random_state = 0)\n",
        "  log.fit(X_train, Y_train)\n",
        "  \n",
        "  #Using KNeighborsClassifier Method of neighbors class to use Nearest Neighbor algorithm\n",
        "  from sklearn.neighbors import KNeighborsClassifier\n",
        "  knn = KNeighborsClassifier(n_neighbors = 5, metric = 'minkowski', p = 2)\n",
        "  knn.fit(X_train, Y_train)\n",
        "\n",
        "  #Using SVC method of svm class to use Support Vector Machine Algorithm\n",
        "  from sklearn.svm import SVC\n",
        "  svc_lin = SVC(kernel = 'linear', random_state = 0)\n",
        "  svc_lin.fit(X_train, Y_train)\n",
        "\n",
        "  #Using SVC method of svm class to use Kernel SVM Algorithm\n",
        "  from sklearn.svm import SVC\n",
        "  svc_rbf = SVC(kernel = 'rbf', random_state = 0)\n",
        "  svc_rbf.fit(X_train, Y_train)\n",
        "\n",
        "  #Using GaussianNB method of naïve_bayes class to use Naïve Bayes Algorithm\n",
        "  from sklearn.naive_bayes import GaussianNB\n",
        "  gauss = GaussianNB()\n",
        "  gauss.fit(X_train, Y_train)\n",
        "\n",
        "  #Using DecisionTreeClassifier of tree class to use Decision Tree Algorithm\n",
        "  from sklearn.tree import DecisionTreeClassifier\n",
        "  tree = DecisionTreeClassifier(criterion = 'entropy', random_state = 0)\n",
        "  tree.fit(X_train, Y_train)\n",
        "\n",
        "  #Using RandomForestClassifier method of ensemble class to use Random Forest Classification algorithm\n",
        "  from sklearn.ensemble import RandomForestClassifier\n",
        "  forest = RandomForestClassifier(n_estimators = 10, criterion = 'entropy', random_state = 0)\n",
        "  forest.fit(X_train, Y_train)\n",
        "  \n",
        "  #print model accuracy on the training data.\n",
        "  print('[0]Logistic Regression Training Accuracy:', log.score(X_train, Y_train))\n",
        "  print('[1]K Nearest Neighbor Training Accuracy:', knn.score(X_train, Y_train))\n",
        "  print('[2]Support Vector Machine (Linear Classifier) Training Accuracy:', svc_lin.score(X_train, Y_train))\n",
        "  print('[3]Support Vector Machine (RBF Classifier) Training Accuracy:', svc_rbf.score(X_train, Y_train))\n",
        "  print('[4]Gaussian Naive Bayes Training Accuracy:', gauss.score(X_train, Y_train))\n",
        "  print('[5]Decision Tree Classifier Training Accuracy:', tree.score(X_train, Y_train))\n",
        "  print('[6]Random Forest Classifier Training Accuracy:', forest.score(X_train, Y_train))\n",
        "  \n",
        "  return log, knn, svc_lin, svc_rbf, gauss, tree, forest"
      ],
      "id": "QQ2a9e1vSMrt",
      "execution_count": null,
      "outputs": []
    },
    {
      "cell_type": "code",
      "metadata": {
        "trusted": true,
        "colab": {
          "base_uri": "https://localhost:8080/"
        },
        "id": "0WMyTdk1SMru",
        "outputId": "5fc46148-706d-4ccd-cc79-0b1c39e3e49e"
      },
      "source": [
        "model = models(X_train,Y_train)"
      ],
      "id": "0WMyTdk1SMru",
      "execution_count": null,
      "outputs": [
        {
          "output_type": "stream",
          "name": "stdout",
          "text": [
            "[0]Logistic Regression Training Accuracy: 0.7978910369068541\n",
            "[1]K Nearest Neighbor Training Accuracy: 0.8664323374340949\n",
            "[2]Support Vector Machine (Linear Classifier) Training Accuracy: 0.7768014059753954\n",
            "[3]Support Vector Machine (RBF Classifier) Training Accuracy: 0.8506151142355008\n",
            "[4]Gaussian Naive Bayes Training Accuracy: 0.8031634446397188\n",
            "[5]Decision Tree Classifier Training Accuracy: 0.9929701230228472\n",
            "[6]Random Forest Classifier Training Accuracy: 0.9753954305799648\n"
          ]
        }
      ]
    },
    {
      "cell_type": "code",
      "metadata": {
        "trusted": true,
        "colab": {
          "base_uri": "https://localhost:8080/"
        },
        "id": "50vhuvf_SMru",
        "outputId": "17c40e21-d528-43d9-9b29-24a12beab569"
      },
      "source": [
        "\n",
        "from sklearn.metrics import confusion_matrix \n",
        "for i in range(len(model)):\n",
        "   cm = confusion_matrix(Y_test, model[i].predict(X_test)) \n",
        "   #extracting TN, FP, FN, TP\n",
        "   TN, FP, FN, TP = confusion_matrix(Y_test, model[i].predict(X_test)).ravel()\n",
        "   print(cm)\n",
        "   print('Model[{}] Testing Accuracy = \"{} !\"'.format(i,  (TP + TN) / (TP + TN + FN + FP)))\n",
        "   print()"
      ],
      "id": "50vhuvf_SMru",
      "execution_count": null,
      "outputs": [
        {
          "output_type": "stream",
          "name": "stdout",
          "text": [
            "[[73  9]\n",
            " [18 43]]\n",
            "Model[0] Testing Accuracy = \"0.8111888111888111 !\"\n",
            "\n",
            "[[71 11]\n",
            " [20 41]]\n",
            "Model[1] Testing Accuracy = \"0.7832167832167832 !\"\n",
            "\n",
            "[[70 12]\n",
            " [18 43]]\n",
            "Model[2] Testing Accuracy = \"0.7902097902097902 !\"\n",
            "\n",
            "[[75  7]\n",
            " [22 39]]\n",
            "Model[3] Testing Accuracy = \"0.7972027972027972 !\"\n",
            "\n",
            "[[69 13]\n",
            " [23 38]]\n",
            "Model[4] Testing Accuracy = \"0.7482517482517482 !\"\n",
            "\n",
            "[[60 22]\n",
            " [10 51]]\n",
            "Model[5] Testing Accuracy = \"0.7762237762237763 !\"\n",
            "\n",
            "[[67 15]\n",
            " [13 48]]\n",
            "Model[6] Testing Accuracy = \"0.8041958041958042 !\"\n",
            "\n"
          ]
        }
      ]
    },
    {
      "cell_type": "code",
      "metadata": {
        "trusted": true,
        "colab": {
          "base_uri": "https://localhost:8080/",
          "height": 337
        },
        "id": "9cVB3i3bSMru",
        "outputId": "8e9ee059-2012-4940-fdb7-37cf0332a37c"
      },
      "source": [
        "forest = model[6]#importance iof random forest\n",
        "importances = pd.DataFrame({'feature':data_train.iloc[:, 2:9].columns,'importance':np.round(forest.feature_importances_,3)})\n",
        "importances = importances.sort_values('importance',ascending=False).set_index('feature')\n",
        "importances.plot.bar()"
      ],
      "id": "9cVB3i3bSMru",
      "execution_count": null,
      "outputs": [
        {
          "output_type": "execute_result",
          "data": {
            "text/plain": [
              "<matplotlib.axes._subplots.AxesSubplot at 0x7f07979c5150>"
            ]
          },
          "metadata": {},
          "execution_count": 105
        },
        {
          "output_type": "display_data",
          "data": {
            "image/png": "[encoded data removed]",
            "text/plain": [
              "<Figure size 432x288 with 1 Axes>"
            ]
          },
          "metadata": {
            "needs_background": "light"
          }
        }
      ]
    },
    {
      "cell_type": "code",
      "metadata": {
        "trusted": true,
        "colab": {
          "base_uri": "https://localhost:8080/"
        },
        "id": "4ENy_L-5SMrv",
        "outputId": "cb7a9564-e93b-4f8d-80c2-d818652457b9"
      },
      "source": [
        "data_test.isna().sum()"
      ],
      "id": "4ENy_L-5SMrv",
      "execution_count": null,
      "outputs": [
        {
          "output_type": "execute_result",
          "data": {
            "text/plain": [
              "PassengerId      0\n",
              "Pclass           0\n",
              "Name             0\n",
              "Sex              0\n",
              "Age             86\n",
              "SibSp            0\n",
              "Parch            0\n",
              "Ticket           0\n",
              "Fare             1\n",
              "Cabin          327\n",
              "Embarked         0\n",
              "dtype: int64"
            ]
          },
          "metadata": {},
          "execution_count": 106
        }
      ]
    },
    {
      "cell_type": "code",
      "metadata": {
        "trusted": true,
        "colab": {
          "base_uri": "https://localhost:8080/"
        },
        "id": "nka3vjG6SMrv",
        "outputId": "add11a39-4d54-47d5-eefa-1af88c12ffd7"
      },
      "source": [
        "data_test.dtypes"
      ],
      "id": "nka3vjG6SMrv",
      "execution_count": null,
      "outputs": [
        {
          "output_type": "execute_result",
          "data": {
            "text/plain": [
              "PassengerId      int64\n",
              "Pclass           int64\n",
              "Name            object\n",
              "Sex             object\n",
              "Age            float64\n",
              "SibSp            int64\n",
              "Parch            int64\n",
              "Ticket          object\n",
              "Fare           float64\n",
              "Cabin           object\n",
              "Embarked        object\n",
              "dtype: object"
            ]
          },
          "metadata": {},
          "execution_count": 107
        }
      ]
    },
    {
      "cell_type": "code",
      "metadata": {
        "trusted": true,
        "colab": {
          "base_uri": "https://localhost:8080/"
        },
        "id": "g9ZHNp0ESMrv",
        "outputId": "89b573df-ca8c-43d3-bfef-c8752cf4a8e1"
      },
      "source": [
        "data_test = data_test.drop(['Cabin','Ticket', 'Name'], axis=1)\n",
        "data_test= data_test.dropna(subset =['Embarked', 'Age','Fare'])\n",
        "data_test.dtypes"
      ],
      "id": "g9ZHNp0ESMrv",
      "execution_count": null,
      "outputs": [
        {
          "output_type": "execute_result",
          "data": {
            "text/plain": [
              "PassengerId      int64\n",
              "Pclass           int64\n",
              "Sex             object\n",
              "Age            float64\n",
              "SibSp            int64\n",
              "Parch            int64\n",
              "Fare           float64\n",
              "Embarked        object\n",
              "dtype: object"
            ]
          },
          "metadata": {},
          "execution_count": 108
        }
      ]
    },
    {
      "cell_type": "code",
      "metadata": {
        "trusted": true,
        "colab": {
          "base_uri": "https://localhost:8080/"
        },
        "id": "YWb8XFjoSMrv",
        "outputId": "84602de4-9a8b-4484-cb6c-ef00a0a0c8a2"
      },
      "source": [
        "from sklearn.preprocessing import LabelEncoder\n",
        "labelencoder = LabelEncoder()\n",
        "data_test.iloc[:,2]= labelencoder.fit_transform(data_test.iloc[:,2].values)\n",
        "\n",
        "data_test.iloc[:,7]= labelencoder.fit_transform(data_test.iloc[:,7].values)\n",
        "\n",
        "print(data_test['Sex'].unique())\n",
        "print(data_test['Embarked'].unique())"
      ],
      "id": "YWb8XFjoSMrv",
      "execution_count": null,
      "outputs": [
        {
          "output_type": "stream",
          "name": "stdout",
          "text": [
            "[1 0]\n",
            "[1 2 0]\n"
          ]
        }
      ]
    },
    {
      "cell_type": "code",
      "metadata": {
        "trusted": true,
        "colab": {
          "base_uri": "https://localhost:8080/",
          "height": 357
        },
        "id": "-3sgELAzSMrv",
        "outputId": "ba09f4b4-7fd0-46fe-df47-34fc0d8d7c67"
      },
      "source": [
        "data_test.head(10)"
      ],
      "id": "-3sgELAzSMrv",
      "execution_count": null,
      "outputs": [
        {
          "output_type": "execute_result",
          "data": {
            "text/html": [
              "<div>\n",
              "<style scoped>\n",
              "    .dataframe tbody tr th:only-of-type {\n",
              "        vertical-align: middle;\n",
              "    }\n",
              "\n",
              "    .dataframe tbody tr th {\n",
              "        vertical-align: top;\n",
              "    }\n",
              "\n",
              "    .dataframe thead th {\n",
              "        text-align: right;\n",
              "    }\n",
              "</style>\n",
              "<table border=\"1\" class=\"dataframe\">\n",
              "  <thead>\n",
              "    <tr style=\"text-align: right;\">\n",
              "      <th></th>\n",
              "      <th>PassengerId</th>\n",
              "      <th>Pclass</th>\n",
              "      <th>Sex</th>\n",
              "      <th>Age</th>\n",
              "      <th>SibSp</th>\n",
              "      <th>Parch</th>\n",
              "      <th>Fare</th>\n",
              "      <th>Embarked</th>\n",
              "    </tr>\n",
              "  </thead>\n",
              "  <tbody>\n",
              "    <tr>\n",
              "      <th>0</th>\n",
              "      <td>892</td>\n",
              "      <td>3</td>\n",
              "      <td>1</td>\n",
              "      <td>34.5</td>\n",
              "      <td>0</td>\n",
              "      <td>0</td>\n",
              "      <td>7.8292</td>\n",
              "      <td>1</td>\n",
              "    </tr>\n",
              "    <tr>\n",
              "      <th>1</th>\n",
              "      <td>893</td>\n",
              "      <td>3</td>\n",
              "      <td>0</td>\n",
              "      <td>47.0</td>\n",
              "      <td>1</td>\n",
              "      <td>0</td>\n",
              "      <td>7.0000</td>\n",
              "      <td>2</td>\n",
              "    </tr>\n",
              "    <tr>\n",
              "      <th>2</th>\n",
              "      <td>894</td>\n",
              "      <td>2</td>\n",
              "      <td>1</td>\n",
              "      <td>62.0</td>\n",
              "      <td>0</td>\n",
              "      <td>0</td>\n",
              "      <td>9.6875</td>\n",
              "      <td>1</td>\n",
              "    </tr>\n",
              "    <tr>\n",
              "      <th>3</th>\n",
              "      <td>895</td>\n",
              "      <td>3</td>\n",
              "      <td>1</td>\n",
              "      <td>27.0</td>\n",
              "      <td>0</td>\n",
              "      <td>0</td>\n",
              "      <td>8.6625</td>\n",
              "      <td>2</td>\n",
              "    </tr>\n",
              "    <tr>\n",
              "      <th>4</th>\n",
              "      <td>896</td>\n",
              "      <td>3</td>\n",
              "      <td>0</td>\n",
              "      <td>22.0</td>\n",
              "      <td>1</td>\n",
              "      <td>1</td>\n",
              "      <td>12.2875</td>\n",
              "      <td>2</td>\n",
              "    </tr>\n",
              "    <tr>\n",
              "      <th>5</th>\n",
              "      <td>897</td>\n",
              "      <td>3</td>\n",
              "      <td>1</td>\n",
              "      <td>14.0</td>\n",
              "      <td>0</td>\n",
              "      <td>0</td>\n",
              "      <td>9.2250</td>\n",
              "      <td>2</td>\n",
              "    </tr>\n",
              "    <tr>\n",
              "      <th>6</th>\n",
              "      <td>898</td>\n",
              "      <td>3</td>\n",
              "      <td>0</td>\n",
              "      <td>30.0</td>\n",
              "      <td>0</td>\n",
              "      <td>0</td>\n",
              "      <td>7.6292</td>\n",
              "      <td>1</td>\n",
              "    </tr>\n",
              "    <tr>\n",
              "      <th>7</th>\n",
              "      <td>899</td>\n",
              "      <td>2</td>\n",
              "      <td>1</td>\n",
              "      <td>26.0</td>\n",
              "      <td>1</td>\n",
              "      <td>1</td>\n",
              "      <td>29.0000</td>\n",
              "      <td>2</td>\n",
              "    </tr>\n",
              "    <tr>\n",
              "      <th>8</th>\n",
              "      <td>900</td>\n",
              "      <td>3</td>\n",
              "      <td>0</td>\n",
              "      <td>18.0</td>\n",
              "      <td>0</td>\n",
              "      <td>0</td>\n",
              "      <td>7.2292</td>\n",
              "      <td>0</td>\n",
              "    </tr>\n",
              "    <tr>\n",
              "      <th>9</th>\n",
              "      <td>901</td>\n",
              "      <td>3</td>\n",
              "      <td>1</td>\n",
              "      <td>21.0</td>\n",
              "      <td>2</td>\n",
              "      <td>0</td>\n",
              "      <td>24.1500</td>\n",
              "      <td>2</td>\n",
              "    </tr>\n",
              "  </tbody>\n",
              "</table>\n",
              "</div>"
            ],
            "text/plain": [
              "   PassengerId  Pclass  Sex   Age  SibSp  Parch     Fare  Embarked\n",
              "0          892       3    1  34.5      0      0   7.8292         1\n",
              "1          893       3    0  47.0      1      0   7.0000         2\n",
              "2          894       2    1  62.0      0      0   9.6875         1\n",
              "3          895       3    1  27.0      0      0   8.6625         2\n",
              "4          896       3    0  22.0      1      1  12.2875         2\n",
              "5          897       3    1  14.0      0      0   9.2250         2\n",
              "6          898       3    0  30.0      0      0   7.6292         1\n",
              "7          899       2    1  26.0      1      1  29.0000         2\n",
              "8          900       3    0  18.0      0      0   7.2292         0\n",
              "9          901       3    1  21.0      2      0  24.1500         2"
            ]
          },
          "metadata": {},
          "execution_count": 110
        }
      ]
    },
    {
      "cell_type": "code",
      "metadata": {
        "id": "iL_Wd9VXT2K0"
      },
      "source": [
        "last = data_test.iloc[:, 1:8].values \n",
        "myid=892"
      ],
      "id": "iL_Wd9VXT2K0",
      "execution_count": null,
      "outputs": []
    },
    {
      "cell_type": "code",
      "metadata": {
        "colab": {
          "base_uri": "https://localhost:8080/"
        },
        "id": "Za9RzkorUhx2",
        "outputId": "b87e14f2-aa6f-4511-e0dd-42b8c30bd638"
      },
      "source": [
        "my=int(input(\"Enter the model number \"))\n",
        "pred = model[my].predict(last)\n",
        "print(pred)"
      ],
      "id": "Za9RzkorUhx2",
      "execution_count": null,
      "outputs": [
        {
          "output_type": "stream",
          "name": "stdout",
          "text": [
            "[0 0 0 0 1 1 0 1 0 1 1 1 1 1 1 0 0 0 0 1 0 1 1 0 1 0 1 1 1 1 1 0 0 0 0 0 1\n",
            " 1 0 1 1 1 1 1 1 1 1 0 0 1 0 1 0 0 1 0 1 1 1 0 0 0 1 1 1 1 1 0 1 1 1 0 0 1\n",
            " 1 1 1 0 1 0 0 0 1 1 0 1 1 0 1 0 1 0 1 1 1 1 1 1 1 0 1 0 0 0 0 1 0 0 0 1 0\n",
            " 1 1 1 1 1 1 1 0 1 1 0 1 0 1 0 1 1 1 1 0 1 1 1 0 0 1 1 1 1 1 1 1 1 1 1 1 1\n",
            " 1 0 0 1 1 0 1 0 1 0 0 1 1 1 0 0 0 1 0 1 1 1 0 1 1 1 1 0 0 0 1 0 0 0 1 1 0\n",
            " 1 0 1 0 1 1 1 1 1 1 1 1 1 1 0 1 0 0 0 1 0 1 0 1 1 1 0 1 1 1 0 1 1 0 0 1 1\n",
            " 1 0 1 0 1 0 0 1 1 0 0 1 0 1 1 1 1 0 0 0 0 1 0 1 1 0 1 0 0 1 1 1 0 1 1 1 1\n",
            " 1 1 1 0 1 0 0 1 1 0 1 0 1 0 1 1 1 0 1 1 1 1 1 1 1 1 1 0 1 1 1 1 1 1 0 0 1\n",
            " 1 0 1 1 1 0 1 1 0 0 0 1 1 1 1 0 1 1 0 1 0 0 1 1 1 1 1 1 0 1 1 1 0 1 0]\n"
          ]
        }
      ]
    },
    {
      "cell_type": "code",
      "metadata": {
        "colab": {
          "base_uri": "https://localhost:8080/"
        },
        "id": "SP3VZEsHa-qt",
        "outputId": "7f06d7fd-9535-4181-8fdd-9b0c57935918"
      },
      "source": [
        "list1 = pred.tolist()\n",
        "print(list1)"
      ],
      "id": "SP3VZEsHa-qt",
      "execution_count": null,
      "outputs": [
        {
          "output_type": "stream",
          "name": "stdout",
          "text": [
            "[0, 0, 0, 0, 1, 1, 0, 1, 0, 1, 1, 1, 1, 1, 1, 0, 0, 0, 0, 1, 0, 1, 1, 0, 1, 0, 1, 1, 1, 1, 1, 0, 0, 0, 0, 0, 1, 1, 0, 1, 1, 1, 1, 1, 1, 1, 1, 0, 0, 1, 0, 1, 0, 0, 1, 0, 1, 1, 1, 0, 0, 0, 1, 1, 1, 1, 1, 0, 1, 1, 1, 0, 0, 1, 1, 1, 1, 0, 1, 0, 0, 0, 1, 1, 0, 1, 1, 0, 1, 0, 1, 0, 1, 1, 1, 1, 1, 1, 1, 0, 1, 0, 0, 0, 0, 1, 0, 0, 0, 1, 0, 1, 1, 1, 1, 1, 1, 1, 0, 1, 1, 0, 1, 0, 1, 0, 1, 1, 1, 1, 0, 1, 1, 1, 0, 0, 1, 1, 1, 1, 1, 1, 1, 1, 1, 1, 1, 1, 1, 0, 0, 1, 1, 0, 1, 0, 1, 0, 0, 1, 1, 1, 0, 0, 0, 1, 0, 1, 1, 1, 0, 1, 1, 1, 1, 0, 0, 0, 1, 0, 0, 0, 1, 1, 0, 1, 0, 1, 0, 1, 1, 1, 1, 1, 1, 1, 1, 1, 1, 0, 1, 0, 0, 0, 1, 0, 1, 0, 1, 1, 1, 0, 1, 1, 1, 0, 1, 1, 0, 0, 1, 1, 1, 0, 1, 0, 1, 0, 0, 1, 1, 0, 0, 1, 0, 1, 1, 1, 1, 0, 0, 0, 0, 1, 0, 1, 1, 0, 1, 0, 0, 1, 1, 1, 0, 1, 1, 1, 1, 1, 1, 1, 0, 1, 0, 0, 1, 1, 0, 1, 0, 1, 0, 1, 1, 1, 0, 1, 1, 1, 1, 1, 1, 1, 1, 1, 0, 1, 1, 1, 1, 1, 1, 0, 0, 1, 1, 0, 1, 1, 1, 0, 1, 1, 0, 0, 0, 1, 1, 1, 1, 0, 1, 1, 0, 1, 0, 0, 1, 1, 1, 1, 1, 1, 0, 1, 1, 1, 0, 1, 0]\n"
          ]
        }
      ]
    },
    {
      "cell_type": "code",
      "metadata": {
        "colab": {
          "base_uri": "https://localhost:8080/"
        },
        "id": "IHzW1_Yqchuz",
        "outputId": "6a084102-5ea4-4629-ac54-3f6a96acdf12"
      },
      "source": [
        "print(\"PassengerID \\t   Survivual\")\n",
        "naman=892\n",
        "for i in list1:\n",
        "  print(naman,\"\\t\\t\\t\",i)\n",
        "  naman=naman+1\n"
      ],
      "id": "IHzW1_Yqchuz",
      "execution_count": null,
      "outputs": [
        {
          "output_type": "stream",
          "name": "stdout",
          "text": [
            "PassengerID \t   Survivual\n",
            "892 \t\t\t 0\n",
            "893 \t\t\t 0\n",
            "894 \t\t\t 0\n",
            "895 \t\t\t 0\n",
            "896 \t\t\t 1\n",
            "897 \t\t\t 1\n",
            "898 \t\t\t 0\n",
            "899 \t\t\t 1\n",
            "900 \t\t\t 0\n",
            "901 \t\t\t 1\n",
            "902 \t\t\t 1\n",
            "903 \t\t\t 1\n",
            "904 \t\t\t 1\n",
            "905 \t\t\t 1\n",
            "906 \t\t\t 1\n",
            "907 \t\t\t 0\n",
            "908 \t\t\t 0\n",
            "909 \t\t\t 0\n",
            "910 \t\t\t 0\n",
            "911 \t\t\t 1\n",
            "912 \t\t\t 0\n",
            "913 \t\t\t 1\n",
            "914 \t\t\t 1\n",
            "915 \t\t\t 0\n",
            "916 \t\t\t 1\n",
            "917 \t\t\t 0\n",
            "918 \t\t\t 1\n",
            "919 \t\t\t 1\n",
            "920 \t\t\t 1\n",
            "921 \t\t\t 1\n",
            "922 \t\t\t 1\n",
            "923 \t\t\t 0\n",
            "924 \t\t\t 0\n",
            "925 \t\t\t 0\n",
            "926 \t\t\t 0\n",
            "927 \t\t\t 0\n",
            "928 \t\t\t 1\n",
            "929 \t\t\t 1\n",
            "930 \t\t\t 0\n",
            "931 \t\t\t 1\n",
            "932 \t\t\t 1\n",
            "933 \t\t\t 1\n",
            "934 \t\t\t 1\n",
            "935 \t\t\t 1\n",
            "936 \t\t\t 1\n",
            "937 \t\t\t 1\n",
            "938 \t\t\t 1\n",
            "939 \t\t\t 0\n",
            "940 \t\t\t 0\n",
            "941 \t\t\t 1\n",
            "942 \t\t\t 0\n",
            "943 \t\t\t 1\n",
            "944 \t\t\t 0\n",
            "945 \t\t\t 0\n",
            "946 \t\t\t 1\n",
            "947 \t\t\t 0\n",
            "948 \t\t\t 1\n",
            "949 \t\t\t 1\n",
            "950 \t\t\t 1\n",
            "951 \t\t\t 0\n",
            "952 \t\t\t 0\n",
            "953 \t\t\t 0\n",
            "954 \t\t\t 1\n",
            "955 \t\t\t 1\n",
            "956 \t\t\t 1\n",
            "957 \t\t\t 1\n",
            "958 \t\t\t 1\n",
            "959 \t\t\t 0\n",
            "960 \t\t\t 1\n",
            "961 \t\t\t 1\n",
            "962 \t\t\t 1\n",
            "963 \t\t\t 0\n",
            "964 \t\t\t 0\n",
            "965 \t\t\t 1\n",
            "966 \t\t\t 1\n",
            "967 \t\t\t 1\n",
            "968 \t\t\t 1\n",
            "969 \t\t\t 0\n",
            "970 \t\t\t 1\n",
            "971 \t\t\t 0\n",
            "972 \t\t\t 0\n",
            "973 \t\t\t 0\n",
            "974 \t\t\t 1\n",
            "975 \t\t\t 1\n",
            "976 \t\t\t 0\n",
            "977 \t\t\t 1\n",
            "978 \t\t\t 1\n",
            "979 \t\t\t 0\n",
            "980 \t\t\t 1\n",
            "981 \t\t\t 0\n",
            "982 \t\t\t 1\n",
            "983 \t\t\t 0\n",
            "984 \t\t\t 1\n",
            "985 \t\t\t 1\n",
            "986 \t\t\t 1\n",
            "987 \t\t\t 1\n",
            "988 \t\t\t 1\n",
            "989 \t\t\t 1\n",
            "990 \t\t\t 1\n",
            "991 \t\t\t 0\n",
            "992 \t\t\t 1\n",
            "993 \t\t\t 0\n",
            "994 \t\t\t 0\n",
            "995 \t\t\t 0\n",
            "996 \t\t\t 0\n",
            "997 \t\t\t 1\n",
            "998 \t\t\t 0\n",
            "999 \t\t\t 0\n",
            "1000 \t\t\t 0\n",
            "1001 \t\t\t 1\n",
            "1002 \t\t\t 0\n",
            "1003 \t\t\t 1\n",
            "1004 \t\t\t 1\n",
            "1005 \t\t\t 1\n",
            "1006 \t\t\t 1\n",
            "1007 \t\t\t 1\n",
            "1008 \t\t\t 1\n",
            "1009 \t\t\t 1\n",
            "1010 \t\t\t 0\n",
            "1011 \t\t\t 1\n",
            "1012 \t\t\t 1\n",
            "1013 \t\t\t 0\n",
            "1014 \t\t\t 1\n",
            "1015 \t\t\t 0\n",
            "1016 \t\t\t 1\n",
            "1017 \t\t\t 0\n",
            "1018 \t\t\t 1\n",
            "1019 \t\t\t 1\n",
            "1020 \t\t\t 1\n",
            "1021 \t\t\t 1\n",
            "1022 \t\t\t 0\n",
            "1023 \t\t\t 1\n",
            "1024 \t\t\t 1\n",
            "1025 \t\t\t 1\n",
            "1026 \t\t\t 0\n",
            "1027 \t\t\t 0\n",
            "1028 \t\t\t 1\n",
            "1029 \t\t\t 1\n",
            "1030 \t\t\t 1\n",
            "1031 \t\t\t 1\n",
            "1032 \t\t\t 1\n",
            "1033 \t\t\t 1\n",
            "1034 \t\t\t 1\n",
            "1035 \t\t\t 1\n",
            "1036 \t\t\t 1\n",
            "1037 \t\t\t 1\n",
            "1038 \t\t\t 1\n",
            "1039 \t\t\t 1\n",
            "1040 \t\t\t 1\n",
            "1041 \t\t\t 0\n",
            "1042 \t\t\t 0\n",
            "1043 \t\t\t 1\n",
            "1044 \t\t\t 1\n",
            "1045 \t\t\t 0\n",
            "1046 \t\t\t 1\n",
            "1047 \t\t\t 0\n",
            "1048 \t\t\t 1\n",
            "1049 \t\t\t 0\n",
            "1050 \t\t\t 0\n",
            "1051 \t\t\t 1\n",
            "1052 \t\t\t 1\n",
            "1053 \t\t\t 1\n",
            "1054 \t\t\t 0\n",
            "1055 \t\t\t 0\n",
            "1056 \t\t\t 0\n",
            "1057 \t\t\t 1\n",
            "1058 \t\t\t 0\n",
            "1059 \t\t\t 1\n",
            "1060 \t\t\t 1\n",
            "1061 \t\t\t 1\n",
            "1062 \t\t\t 0\n",
            "1063 \t\t\t 1\n",
            "1064 \t\t\t 1\n",
            "1065 \t\t\t 1\n",
            "1066 \t\t\t 1\n",
            "1067 \t\t\t 0\n",
            "1068 \t\t\t 0\n",
            "1069 \t\t\t 0\n",
            "1070 \t\t\t 1\n",
            "1071 \t\t\t 0\n",
            "1072 \t\t\t 0\n",
            "1073 \t\t\t 0\n",
            "1074 \t\t\t 1\n",
            "1075 \t\t\t 1\n",
            "1076 \t\t\t 0\n",
            "1077 \t\t\t 1\n",
            "1078 \t\t\t 0\n",
            "1079 \t\t\t 1\n",
            "1080 \t\t\t 0\n",
            "1081 \t\t\t 1\n",
            "1082 \t\t\t 1\n",
            "1083 \t\t\t 1\n",
            "1084 \t\t\t 1\n",
            "1085 \t\t\t 1\n",
            "1086 \t\t\t 1\n",
            "1087 \t\t\t 1\n",
            "1088 \t\t\t 1\n",
            "1089 \t\t\t 1\n",
            "1090 \t\t\t 1\n",
            "1091 \t\t\t 0\n",
            "1092 \t\t\t 1\n",
            "1093 \t\t\t 0\n",
            "1094 \t\t\t 0\n",
            "1095 \t\t\t 0\n",
            "1096 \t\t\t 1\n",
            "1097 \t\t\t 0\n",
            "1098 \t\t\t 1\n",
            "1099 \t\t\t 0\n",
            "1100 \t\t\t 1\n",
            "1101 \t\t\t 1\n",
            "1102 \t\t\t 1\n",
            "1103 \t\t\t 0\n",
            "1104 \t\t\t 1\n",
            "1105 \t\t\t 1\n",
            "1106 \t\t\t 1\n",
            "1107 \t\t\t 0\n",
            "1108 \t\t\t 1\n",
            "1109 \t\t\t 1\n",
            "1110 \t\t\t 0\n",
            "1111 \t\t\t 0\n",
            "1112 \t\t\t 1\n",
            "1113 \t\t\t 1\n",
            "1114 \t\t\t 1\n",
            "1115 \t\t\t 0\n",
            "1116 \t\t\t 1\n",
            "1117 \t\t\t 0\n",
            "1118 \t\t\t 1\n",
            "1119 \t\t\t 0\n",
            "1120 \t\t\t 0\n",
            "1121 \t\t\t 1\n",
            "1122 \t\t\t 1\n",
            "1123 \t\t\t 0\n",
            "1124 \t\t\t 0\n",
            "1125 \t\t\t 1\n",
            "1126 \t\t\t 0\n",
            "1127 \t\t\t 1\n",
            "1128 \t\t\t 1\n",
            "1129 \t\t\t 1\n",
            "1130 \t\t\t 1\n",
            "1131 \t\t\t 0\n",
            "1132 \t\t\t 0\n",
            "1133 \t\t\t 0\n",
            "1134 \t\t\t 0\n",
            "1135 \t\t\t 1\n",
            "1136 \t\t\t 0\n",
            "1137 \t\t\t 1\n",
            "1138 \t\t\t 1\n",
            "1139 \t\t\t 0\n",
            "1140 \t\t\t 1\n",
            "1141 \t\t\t 0\n",
            "1142 \t\t\t 0\n",
            "1143 \t\t\t 1\n",
            "1144 \t\t\t 1\n",
            "1145 \t\t\t 1\n",
            "1146 \t\t\t 0\n",
            "1147 \t\t\t 1\n",
            "1148 \t\t\t 1\n",
            "1149 \t\t\t 1\n",
            "1150 \t\t\t 1\n",
            "1151 \t\t\t 1\n",
            "1152 \t\t\t 1\n",
            "1153 \t\t\t 1\n",
            "1154 \t\t\t 0\n",
            "1155 \t\t\t 1\n",
            "1156 \t\t\t 0\n",
            "1157 \t\t\t 0\n",
            "1158 \t\t\t 1\n",
            "1159 \t\t\t 1\n",
            "1160 \t\t\t 0\n",
            "1161 \t\t\t 1\n",
            "1162 \t\t\t 0\n",
            "1163 \t\t\t 1\n",
            "1164 \t\t\t 0\n",
            "1165 \t\t\t 1\n",
            "1166 \t\t\t 1\n",
            "1167 \t\t\t 1\n",
            "1168 \t\t\t 0\n",
            "1169 \t\t\t 1\n",
            "1170 \t\t\t 1\n",
            "1171 \t\t\t 1\n",
            "1172 \t\t\t 1\n",
            "1173 \t\t\t 1\n",
            "1174 \t\t\t 1\n",
            "1175 \t\t\t 1\n",
            "1176 \t\t\t 1\n",
            "1177 \t\t\t 1\n",
            "1178 \t\t\t 0\n",
            "1179 \t\t\t 1\n",
            "1180 \t\t\t 1\n",
            "1181 \t\t\t 1\n",
            "1182 \t\t\t 1\n",
            "1183 \t\t\t 1\n",
            "1184 \t\t\t 1\n",
            "1185 \t\t\t 0\n",
            "1186 \t\t\t 0\n",
            "1187 \t\t\t 1\n",
            "1188 \t\t\t 1\n",
            "1189 \t\t\t 0\n",
            "1190 \t\t\t 1\n",
            "1191 \t\t\t 1\n",
            "1192 \t\t\t 1\n",
            "1193 \t\t\t 0\n",
            "1194 \t\t\t 1\n",
            "1195 \t\t\t 1\n",
            "1196 \t\t\t 0\n",
            "1197 \t\t\t 0\n",
            "1198 \t\t\t 0\n",
            "1199 \t\t\t 1\n",
            "1200 \t\t\t 1\n",
            "1201 \t\t\t 1\n",
            "1202 \t\t\t 1\n",
            "1203 \t\t\t 0\n",
            "1204 \t\t\t 1\n",
            "1205 \t\t\t 1\n",
            "1206 \t\t\t 0\n",
            "1207 \t\t\t 1\n",
            "1208 \t\t\t 0\n",
            "1209 \t\t\t 0\n",
            "1210 \t\t\t 1\n",
            "1211 \t\t\t 1\n",
            "1212 \t\t\t 1\n",
            "1213 \t\t\t 1\n",
            "1214 \t\t\t 1\n",
            "1215 \t\t\t 1\n",
            "1216 \t\t\t 0\n",
            "1217 \t\t\t 1\n",
            "1218 \t\t\t 1\n",
            "1219 \t\t\t 1\n",
            "1220 \t\t\t 0\n",
            "1221 \t\t\t 1\n",
            "1222 \t\t\t 0\n"
          ]
        }
      ]
    },
    {
      "cell_type": "code",
      "metadata": {
        "id": "NgcpSEeCc-zN"
      },
      "source": [
        ""
      ],
      "id": "NgcpSEeCc-zN",
      "execution_count": null,
      "outputs": []
    }
  ]
}